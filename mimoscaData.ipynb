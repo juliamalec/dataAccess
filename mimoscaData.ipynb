{
 "cells": [
  {
   "attachments": {},
   "cell_type": "markdown",
   "metadata": {},
   "source": [
    "The data is stored in H5AD files which are types of files that store annotated single-cell gene expression data,\n",
    "and other metadata such as cell annotations, quality control metrics, and feature annotations\n"
   ]
  },
  {
   "cell_type": "code",
   "execution_count": 18,
   "metadata": {},
   "outputs": [],
   "source": [
    "import anndata\n",
    "import numpy as np"
   ]
  },
  {
   "cell_type": "code",
   "execution_count": 19,
   "metadata": {},
   "outputs": [],
   "source": [
    "# load the data H5AD file\n",
    "# data is a H5AD file object and contains the gene expression matrix (data.X), cell metadata (data.obs), and gene metadata (data.var)\n",
    "data = anndata.read_h5ad('/home/data/raw/coin-seq/dixit/DixitRegev2016.h5ad') #this is the path to the data, might vary"
   ]
  },
  {
   "cell_type": "code",
   "execution_count": 21,
   "metadata": {},
   "outputs": [
    {
     "name": "stdout",
     "output_type": "stream",
     "text": [
      "csc\n",
      "AnnData object with n_obs × n_vars = 51898 × 23529\n",
      "    obs: 'perturbation', 'grna_lenient', 'target', 'moi', 'cell_line', 'celltype', 'perturbation_type', 'cancer', 'disease', 'guide_id', 'ncounts', 'ngenes', 'percent_mito', 'percent_ribo', 'nperts'\n",
      "    var: 'gene_id', 'mt', 'ribo', 'ncounts', 'ncells'\n",
      "number of genes:  23529\n",
      "number of cells:  51898\n",
      "(a, b) means gene index a is expressed in cell index b\n",
      "  (5, 5)\t1.0\n",
      "float32\n",
      "\n",
      "this is what the matrix looks like:\n",
      "[[0. 0. 0. 0. 0. 0. 0. 0. 0. 0.]\n",
      " [0. 0. 0. 0. 0. 0. 0. 0. 0. 0.]\n",
      " [0. 0. 0. 0. 0. 0. 0. 0. 0. 0.]\n",
      " [0. 0. 0. 0. 0. 0. 0. 0. 0. 0.]\n",
      " [0. 0. 0. 0. 0. 0. 0. 0. 0. 0.]\n",
      " [0. 0. 0. 0. 0. 1. 0. 0. 0. 0.]\n",
      " [0. 0. 0. 0. 0. 0. 0. 0. 0. 0.]\n",
      " [0. 0. 0. 0. 0. 0. 0. 0. 0. 0.]\n",
      " [0. 0. 0. 0. 0. 0. 0. 0. 0. 0.]\n",
      " [0. 0. 0. 0. 0. 0. 0. 0. 0. 0.]]\n"
     ]
    }
   ],
   "source": [
    "# working with the count matrix (data.X)\n",
    "\n",
    "X = data.X # Accessing the gene expression matrix. data is an anndata object, and X is a sparse matrix representing expression data\n",
    "\n",
    "print(X.format)\n",
    "\n",
    "print(data) #the attributes printed after obs: refer to information about each cell, the information printed after var: contains information about each gene\n",
    "print('number of genes: ', data.n_vars) # columns\n",
    "print('number of cells: ', data.n_obs) # rows\n",
    "\n",
    "print('(a, b) means gene index a is expressed in cell index b')\n",
    "subset = X[:10, :10] #view first 20 cells and genes, this is normalized expression data \n",
    "print(subset) #because subset is a sparse matrix a lot of the values in the matrix will be 0, only entries not zero are stored in memory, and this prints out that info\n",
    "print(subset.dtype)\n",
    "\n",
    "\n",
    "print('\\nthis is what the matrix looks like:')\n",
    "print(subset.todense()) #this is here for a visual of what the matrix actually looks like, the 0s mean there is no sufficent gene expression in the cell\n"
   ]
  },
  {
   "cell_type": "code",
   "execution_count": null,
   "metadata": {},
   "outputs": [],
   "source": [
    "# working with the cell metadata (data.obs)\n",
    "cells = data.obs # each row represents a different cell, and the columns represent metadata associated with that cell\n",
    "print(cells)"
   ]
  },
  {
   "cell_type": "code",
   "execution_count": null,
   "metadata": {},
   "outputs": [],
   "source": [
    "\n",
    "\n",
    "cellsFound = []\n",
    "controlCells = []\n",
    "cells = data.obs\n",
    "count = 0\n",
    "numCells = 0\n",
    "control = 0\n",
    "cell_names = data.obs_names\n",
    "\n",
    "# this is used to make a list of all cells that have a specified perturbation, and a list of \"control cells\"\n",
    "while count < 51898:\n",
    "    if cells.perturbation[count] == 'p-sgEGR1-2':\n",
    "        cellsFound.append(cell_names[count])\n",
    "        numCells = numCells + 1\n",
    "\n",
    "    if cells.perturbation[count] == 'control':\n",
    "        controlCells.append(cell_names[count])\n",
    "        control = control + 1\n",
    "\n",
    "    count = count + 1\n",
    "\n",
    "\n",
    "print(numCells, \" cells were found with the specified perturbation\")\n",
    "print(cellsFound)\n",
    "print(control, \" control cells were found\")\n",
    "print(controlCells)\n",
    "\n",
    "\n",
    "element = \"AAACCGTGAGCATC_ph14d_B5\"\n",
    "if element in cellsFound and element in controlCells:\n",
    "    print(f\"{element} is present in both lists.\")\n",
    "\n",
    "\n",
    "def is_sublist(lst, sublst):\n",
    "    lst.sort()\n",
    "    sublst.sort()\n",
    "    i = 0\n",
    "    for j in range(len(sublst)):\n",
    "        while i < len(lst) and lst[i] < sublst[j]:\n",
    "            i += 1\n",
    "        if i >= len(lst) or lst[i] != sublst[j]:\n",
    "            print(sublst[j])\n",
    "            return False\n",
    "    return True\n",
    "\n",
    "\n",
    "\n",
    "#lst = [1, 2, 3, 4, 5, 6, 7]\n",
    "#sublst = [4, 3, 5]\n",
    "\n",
    "#print(is_sublist(controlCells, cellsFound))\n"
   ]
  },
  {
   "cell_type": "code",
   "execution_count": null,
   "metadata": {},
   "outputs": [],
   "source": [
    "#and cells.perturbation[counter] == 'control'\n",
    "#if 'p_sgEGR1_2' in cells.guide_id[counter]:\n",
    "#ACCGCGGATCGTAG_ph14d_B5\n",
    "\n",
    "numControl = 0\n",
    "numPerturbation = 0\n",
    "\n",
    "\"\"\"counter = 0\n",
    "while counter < 51898:\n",
    "    if 'AAGCGACTCTGACA_ph14d_B5' in cell_names[counter]:\n",
    "        print('idenifier: ', cell_names[counter])\n",
    "        print('perturbation: ' + cells.perturbation[counter])\n",
    "        print('grna_lenient: ' + cells.grna_lenient[counter])\n",
    "        print('target: ' , cells.target[counter])\n",
    "        print('moi: ' + cells.moi[counter])\n",
    "        print('cell_line: ' + cells.cell_line[counter])\n",
    "        print('cell type: ' + cells.celltype[counter])\n",
    "        print('perturbation_type: ' + cells.perturbation_type[counter])\n",
    "        print('cancer:  ' , cells.cancer[counter])\n",
    "        print('disease: ' + cells.disease[counter])\n",
    "        print('guide_id: ' + cells.guide_id[counter])\n",
    "        print('ncounts: ' , cells.ncounts[counter])\n",
    "        print('ngenes: ' , cells.ngenes[counter])\n",
    "        print('percent_mito: ' + cells.perturbation_type[counter])\n",
    "        print('percent_ribo: ' ,cells.percent_ribo[counter])\n",
    "        print('nperts: ' , cells.nperts [counter])\n",
    "        print(\"\\n\")\n",
    "        numControl = numControl + 1\n",
    "\n",
    "    counter = counter + 1\"\"\"\n",
    "         \n",
    "counter = 0\n",
    "while counter < 51898:\n",
    "    if 'control' in cells.perturbation[counter]:\n",
    "        print('idenifier: ', cell_names[counter])\n",
    "        print('perturbation: ' + cells.perturbation[counter])\n",
    "        print('grna_lenient: ' , cells.grna_lenient[counter])\n",
    "        print('target: ' , cells.target[counter])\n",
    "        print('moi: ' + cells.moi[counter])\n",
    "        print('cell_line: ' + cells.cell_line[counter])\n",
    "        print('cell type: ' + cells.celltype[counter])\n",
    "        print('perturbation_type: ' + cells.perturbation_type[counter])\n",
    "        print('cancer:  ' , cells.cancer[counter])\n",
    "        print('disease: ' + cells.disease[counter])\n",
    "        print('guide_id: ' + cells.guide_id[counter])\n",
    "        print('ncounts: ' , cells.ncounts[counter])\n",
    "        print('ngenes: ' , cells.ngenes[counter])\n",
    "        print('percent_mito: ' + cells.perturbation_type[counter])\n",
    "        print('percent_ribo: ' ,cells.percent_ribo[counter])\n",
    "        print('nperts: ' , cells.nperts [counter])\n",
    "        print(\"\\n\")\n",
    "\n",
    "        numPerturbation = numPerturbation + 1\n",
    "        \n",
    "    counter = counter + 1\n",
    "\n",
    "\n",
    "print(numControl)\n",
    "print(numPerturbation)"
   ]
  },
  {
   "cell_type": "code",
   "execution_count": null,
   "metadata": {},
   "outputs": [],
   "source": [
    "counter = 0\n",
    "while counter < 51898:\n",
    "    print('idenifier: ', cell_names[counter])\n",
    "    counter = counter + 1"
   ]
  },
  {
   "cell_type": "code",
   "execution_count": null,
   "metadata": {},
   "outputs": [],
   "source": [
    "#get all observations for a specified cell, i.e. 0 and 1s for gene expression \n",
    "obs_name = 'AAACATACAAGGTA_ph14d_B5'\n",
    "obs_index = data.obs_names.tolist().index(obs_name)\n",
    "cell_expression = data.X[obs_index, :].todense()\n",
    "cell_expression = np.array(cell_expression).flatten()\n",
    "print(cell_expression[:500])"
   ]
  },
  {
   "cell_type": "code",
   "execution_count": null,
   "metadata": {},
   "outputs": [],
   "source": [
    "#make a sub matrix of the expression matrix only for control cells\n",
    "subset_obs_names = controlCells #list of observation names to subset\n",
    "subset_X = data.X[data.obs_names.isin(subset_obs_names)] #subset the .X matrix to only include the desired rows\n",
    "subset_adata = anndata.AnnData(subset_X) #creating a new anndata object with the subsetted expression matrix\n",
    "subset_adata.obs_names = subset_obs_names\n",
    "\n",
    "newX = subset_adata.X\n",
    "print('number of genes: ', subset_adata.n_vars) # columns\n",
    "print('number of cells: ', subset_adata.n_obs) # rows\n",
    "print(newX.todense())"
   ]
  },
  {
   "cell_type": "code",
   "execution_count": null,
   "metadata": {},
   "outputs": [],
   "source": [
    "# working with the gene metadata (data.var)\n",
    "genes = data.var\n",
    "print(genes) # each row represents a different gene, and the columns represent metadata associated with that gene"
   ]
  },
  {
   "cell_type": "code",
   "execution_count": null,
   "metadata": {},
   "outputs": [],
   "source": [
    "# dataset annotations\n",
    "info = data.uns\n",
    "print(info) # the only overload key is neighbors suggesting the data was processed using neighborhood based analysis (clustering or dimensionality reduction)"
   ]
  }
 ],
 "metadata": {
  "kernelspec": {
   "display_name": "base",
   "language": "python",
   "name": "python3"
  },
  "language_info": {
   "codemirror_mode": {
    "name": "ipython",
    "version": 3
   },
   "file_extension": ".py",
   "mimetype": "text/x-python",
   "name": "python",
   "nbconvert_exporter": "python",
   "pygments_lexer": "ipython3",
   "version": "3.7.12"
  },
  "orig_nbformat": 4
 },
 "nbformat": 4,
 "nbformat_minor": 2
}
