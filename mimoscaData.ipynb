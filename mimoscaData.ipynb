{
 "cells": [
  {
   "attachments": {},
   "cell_type": "markdown",
   "metadata": {},
   "source": [
    "The data is stored in H5AD files which are types of files that store annotated single-cell gene expression data,\n",
    "and other metadata such as cell annotations, quality control metrics, and feature annotations\n"
   ]
  },
  {
   "cell_type": "code",
   "execution_count": 2,
   "metadata": {},
   "outputs": [],
   "source": [
    "import anndata #this python package is used to access data from H5AD files"
   ]
  },
  {
   "cell_type": "code",
   "execution_count": 3,
   "metadata": {},
   "outputs": [],
   "source": [
    "# load the data H5AD file\n",
    "# data is a H5AD file object and contains the gene expression matrix (data.X), cell metadata (data.obs), and gene metadata (data.var)\n",
    "data = anndata.read_h5ad('/home/data/raw/coin-seq/dixit/DixitRegev2016.h5ad') #this is the path to the data, might vary"
   ]
  },
  {
   "cell_type": "code",
   "execution_count": 4,
   "metadata": {},
   "outputs": [
    {
     "name": "stdout",
     "output_type": "stream",
     "text": [
      "AnnData object with n_obs × n_vars = 51898 × 23529\n",
      "    obs: 'perturbation', 'grna_lenient', 'target', 'moi', 'cell_line', 'celltype', 'perturbation_type', 'cancer', 'disease', 'guide_id', 'ncounts', 'ngenes', 'percent_mito', 'percent_ribo', 'nperts'\n",
      "    var: 'gene_id', 'mt', 'ribo', 'ncounts', 'ncells'\n",
      "number of genes:  23529\n",
      "number of cells:  51898\n",
      "(a, b) means gene index a is expressed in cell index b\n",
      "  (5, 5)\t1.0\n",
      "  (17, 5)\t1.0\n",
      "  (13, 7)\t1.0\n",
      "  (7, 11)\t1.0\n",
      "  (14, 13)\t1.0\n",
      "  (13, 19)\t1.0\n",
      "\n",
      "this is what the matrix looks like:\n",
      "[[0. 0. 0. 0. 0. 0. 0. 0. 0. 0. 0. 0. 0. 0. 0. 0. 0. 0. 0. 0.]\n",
      " [0. 0. 0. 0. 0. 0. 0. 0. 0. 0. 0. 0. 0. 0. 0. 0. 0. 0. 0. 0.]\n",
      " [0. 0. 0. 0. 0. 0. 0. 0. 0. 0. 0. 0. 0. 0. 0. 0. 0. 0. 0. 0.]\n",
      " [0. 0. 0. 0. 0. 0. 0. 0. 0. 0. 0. 0. 0. 0. 0. 0. 0. 0. 0. 0.]\n",
      " [0. 0. 0. 0. 0. 0. 0. 0. 0. 0. 0. 0. 0. 0. 0. 0. 0. 0. 0. 0.]\n",
      " [0. 0. 0. 0. 0. 1. 0. 0. 0. 0. 0. 0. 0. 0. 0. 0. 0. 0. 0. 0.]\n",
      " [0. 0. 0. 0. 0. 0. 0. 0. 0. 0. 0. 0. 0. 0. 0. 0. 0. 0. 0. 0.]\n",
      " [0. 0. 0. 0. 0. 0. 0. 0. 0. 0. 0. 1. 0. 0. 0. 0. 0. 0. 0. 0.]\n",
      " [0. 0. 0. 0. 0. 0. 0. 0. 0. 0. 0. 0. 0. 0. 0. 0. 0. 0. 0. 0.]\n",
      " [0. 0. 0. 0. 0. 0. 0. 0. 0. 0. 0. 0. 0. 0. 0. 0. 0. 0. 0. 0.]\n",
      " [0. 0. 0. 0. 0. 0. 0. 0. 0. 0. 0. 0. 0. 0. 0. 0. 0. 0. 0. 0.]\n",
      " [0. 0. 0. 0. 0. 0. 0. 0. 0. 0. 0. 0. 0. 0. 0. 0. 0. 0. 0. 0.]\n",
      " [0. 0. 0. 0. 0. 0. 0. 0. 0. 0. 0. 0. 0. 0. 0. 0. 0. 0. 0. 0.]\n",
      " [0. 0. 0. 0. 0. 0. 0. 1. 0. 0. 0. 0. 0. 0. 0. 0. 0. 0. 0. 1.]\n",
      " [0. 0. 0. 0. 0. 0. 0. 0. 0. 0. 0. 0. 0. 1. 0. 0. 0. 0. 0. 0.]\n",
      " [0. 0. 0. 0. 0. 0. 0. 0. 0. 0. 0. 0. 0. 0. 0. 0. 0. 0. 0. 0.]\n",
      " [0. 0. 0. 0. 0. 0. 0. 0. 0. 0. 0. 0. 0. 0. 0. 0. 0. 0. 0. 0.]\n",
      " [0. 0. 0. 0. 0. 1. 0. 0. 0. 0. 0. 0. 0. 0. 0. 0. 0. 0. 0. 0.]\n",
      " [0. 0. 0. 0. 0. 0. 0. 0. 0. 0. 0. 0. 0. 0. 0. 0. 0. 0. 0. 0.]\n",
      " [0. 0. 0. 0. 0. 0. 0. 0. 0. 0. 0. 0. 0. 0. 0. 0. 0. 0. 0. 0.]]\n"
     ]
    }
   ],
   "source": [
    "# working with the count matrix (data.X)\n",
    "\n",
    "X = data.X # Accessing the gene expression matrix. data is an anndata object, and X is a sparse matrix representing expression data\n",
    "\n",
    "print(data) #the attributes printed after obs: refer to information about each cell, the information printed after var: contains information about each gene\n",
    "print('number of genes: ', data.n_vars) # columns\n",
    "print('number of cells: ', data.n_obs) # rows\n",
    "\n",
    "print('(a, b) means gene index a is expressed in cell index b')\n",
    "subset = X[:20, :20] #view first 20 cells and genes, this is normalized expression data \n",
    "print(subset) #because subset is a sparse matrix a lot of the values in the matrix will be 0, only entries not zero are stored in memory, and this prints out that info\n",
    "\n",
    "print('\\nthis is what the matrix looks like:')\n",
    "print(subset.todense()) #this is here for a visual of what the matrix actually looks like, the 0s mean there is no sufficent gene expression in the cell\n"
   ]
  },
  {
   "cell_type": "code",
   "execution_count": 5,
   "metadata": {},
   "outputs": [
    {
     "name": "stdout",
     "output_type": "stream",
     "text": [
      "                               perturbation                    grna_lenient  \\\n",
      "AAACATACAAGGTA_ph14d_B5          p-sgEGR1-2                      p-sgEGR1-2   \n",
      "AAACATACCTGCAA_ph14d_B5         p-sgGABPA-9  p-sgGABPA-9;p-INTERGENIC393453   \n",
      "AAACATACTCTCCG_ph14d_B5  p-INTERGENIC216151              p-INTERGENIC216151   \n",
      "AAACATTGAACCAC_ph14d_B5          p-sgE2F4-6                      p-sgE2F4-6   \n",
      "AAACATTGACCTGA_ph14d_B5          p-sgELF1-5   p-INTERGENIC393453;p-sgELF1-5   \n",
      "...                                     ...                             ...   \n",
      "TTTCTACTGATGAA_ph14d_F7         p-sgCREB1-2                     p-sgCREB1-2   \n",
      "TTTGACTGACGGGA_ph14d_F7          p-sgE2F4-6                      p-sgE2F4-6   \n",
      "TTTGACTGAGCATC_ph14d_F7          p-sgEGR1-3   p-sgEGR1-3;p-INTERGENIC393453   \n",
      "TTTGACTGCTACCC_ph14d_F7          p-sgIRF1-2   p-sgIRF1-2;p-INTERGENIC393453   \n",
      "TTTGCATGACCCTC_ph14d_F7          p-sgELF1-5   p-INTERGENIC393453;p-sgELF1-5   \n",
      "\n",
      "                                   target   moi cell_line      celltype  \\\n",
      "AAACATACAAGGTA_ph14d_B5              EGR1  high      K562  lymphoblasts   \n",
      "AAACATACCTGCAA_ph14d_B5             GABPA  high      K562  lymphoblasts   \n",
      "AAACATACTCTCCG_ph14d_B5  INTERGENIC216151  high      K562  lymphoblasts   \n",
      "AAACATTGAACCAC_ph14d_B5              E2F4  high      K562  lymphoblasts   \n",
      "AAACATTGACCTGA_ph14d_B5              ELF1  high      K562  lymphoblasts   \n",
      "...                                   ...   ...       ...           ...   \n",
      "TTTCTACTGATGAA_ph14d_F7             CREB1  high      K562  lymphoblasts   \n",
      "TTTGACTGACGGGA_ph14d_F7              E2F4  high      K562  lymphoblasts   \n",
      "TTTGACTGAGCATC_ph14d_F7              EGR1  high      K562  lymphoblasts   \n",
      "TTTGACTGCTACCC_ph14d_F7              IRF1  high      K562  lymphoblasts   \n",
      "TTTGCATGACCCTC_ph14d_F7              ELF1  high      K562  lymphoblasts   \n",
      "\n",
      "                        perturbation_type  cancer               disease  \\\n",
      "AAACATACAAGGTA_ph14d_B5            CRISPR    True  myelogenous leukemia   \n",
      "AAACATACCTGCAA_ph14d_B5            CRISPR    True  myelogenous leukemia   \n",
      "AAACATACTCTCCG_ph14d_B5            CRISPR    True  myelogenous leukemia   \n",
      "AAACATTGAACCAC_ph14d_B5            CRISPR    True  myelogenous leukemia   \n",
      "AAACATTGACCTGA_ph14d_B5            CRISPR    True  myelogenous leukemia   \n",
      "...                                   ...     ...                   ...   \n",
      "TTTCTACTGATGAA_ph14d_F7            CRISPR    True  myelogenous leukemia   \n",
      "TTTGACTGACGGGA_ph14d_F7            CRISPR    True  myelogenous leukemia   \n",
      "TTTGACTGAGCATC_ph14d_F7            CRISPR    True  myelogenous leukemia   \n",
      "TTTGACTGCTACCC_ph14d_F7            CRISPR    True  myelogenous leukemia   \n",
      "TTTGCATGACCCTC_ph14d_F7            CRISPR    True  myelogenous leukemia   \n",
      "\n",
      "                                   guide_id  ncounts  ngenes  percent_mito  \\\n",
      "AAACATACAAGGTA_ph14d_B5          p_sgEGR1_2  18384.0    4018      5.700609   \n",
      "AAACATACCTGCAA_ph14d_B5         p_sgGABPA_9  16678.0    3536      7.554862   \n",
      "AAACATACTCTCCG_ph14d_B5  p_INTERGENIC216151  13149.0    2990      1.703552   \n",
      "AAACATTGAACCAC_ph14d_B5          p_sgE2F4_6  12998.0    3194      4.131405   \n",
      "AAACATTGACCTGA_ph14d_B5          p_sgELF1_5  19507.0    3931      4.054955   \n",
      "...                                     ...      ...     ...           ...   \n",
      "TTTCTACTGATGAA_ph14d_F7         p_sgCREB1_2  15177.0    3057      1.904197   \n",
      "TTTGACTGACGGGA_ph14d_F7          p_sgE2F4_6   9233.0    2469      2.014513   \n",
      "TTTGACTGAGCATC_ph14d_F7          p_sgEGR1_3   7319.0    2059      2.746277   \n",
      "TTTGACTGCTACCC_ph14d_F7          p_sgIRF1_2  25938.0    3963      3.762819   \n",
      "TTTGCATGACCCTC_ph14d_F7          p_sgELF1_5  13713.0    3240      2.588784   \n",
      "\n",
      "                         percent_ribo  nperts  \n",
      "AAACATACAAGGTA_ph14d_B5     31.706921       1  \n",
      "AAACATACCTGCAA_ph14d_B5     38.769634       1  \n",
      "AAACATACTCTCCG_ph14d_B5     32.162140       1  \n",
      "AAACATTGAACCAC_ph14d_B5     33.812897       1  \n",
      "AAACATTGACCTGA_ph14d_B5     39.754959       1  \n",
      "...                               ...     ...  \n",
      "TTTCTACTGATGAA_ph14d_F7     36.996773       1  \n",
      "TTTGACTGACGGGA_ph14d_F7     35.503086       1  \n",
      "TTTGACTGAGCATC_ph14d_F7     34.294300       1  \n",
      "TTTGACTGCTACCC_ph14d_F7     34.505360       1  \n",
      "TTTGCATGACCCTC_ph14d_F7     33.975060       1  \n",
      "\n",
      "[51898 rows x 15 columns]\n"
     ]
    }
   ],
   "source": [
    "# working with the cell metadata (data.obs)\n",
    "cells = data.obs\n",
    "print(cells) # each row represents a different cell, and the columns represent metadata associated with that cell"
   ]
  },
  {
   "cell_type": "code",
   "execution_count": 6,
   "metadata": {},
   "outputs": [
    {
     "name": "stdout",
     "output_type": "stream",
     "text": [
      "                      gene_id     mt   ribo  ncounts  ncells\n",
      "MIR1302-10    ENSG00000243485  False  False      1.0       1\n",
      "FAM138A       ENSG00000237613  False  False      1.0       1\n",
      "OR4F5         ENSG00000186092  False  False      3.0       3\n",
      "RP11-34P13.7  ENSG00000238009  False  False    253.0     249\n",
      "RP11-34P13.8  ENSG00000239945  False  False      9.0       9\n",
      "...                       ...    ...    ...      ...     ...\n",
      "AL592183.1    ENSG00000220023  False  False  50960.0   28138\n",
      "AC011841.1    ENSG00000212884  False  False     34.0      29\n",
      "AL354822.1    ENSG00000215615  False  False   3890.0    3691\n",
      "PNRC2-1       ENSG00000215700  False  False     20.0      20\n",
      "SRSF10-1      ENSG00000215699  False  False   5297.0    4945\n",
      "\n",
      "[23529 rows x 5 columns]\n"
     ]
    }
   ],
   "source": [
    "# working with the gene metadata (data.var)\n",
    "genes = data.var\n",
    "print(genes) # each row represents a different gene, and the columns represent metadata associated with that gene"
   ]
  },
  {
   "cell_type": "code",
   "execution_count": 7,
   "metadata": {},
   "outputs": [
    {
     "name": "stdout",
     "output_type": "stream",
     "text": [
      "OverloadedDict, wrapping:\n",
      "\tOrderedDict()\n",
      "With overloaded keys:\n",
      "\t['neighbors'].\n"
     ]
    }
   ],
   "source": [
    "# dataset annotations\n",
    "info = data.uns\n",
    "print(info) # the only overload key is neighbors suggesting the data was processed using neighborhood based analysis (clustering or dimensionality reduction)"
   ]
  }
 ],
 "metadata": {
  "kernelspec": {
   "display_name": "base",
   "language": "python",
   "name": "python3"
  },
  "language_info": {
   "codemirror_mode": {
    "name": "ipython",
    "version": 3
   },
   "file_extension": ".py",
   "mimetype": "text/x-python",
   "name": "python",
   "nbconvert_exporter": "python",
   "pygments_lexer": "ipython3",
   "version": "3.7.12"
  },
  "orig_nbformat": 4
 },
 "nbformat": 4,
 "nbformat_minor": 2
}
